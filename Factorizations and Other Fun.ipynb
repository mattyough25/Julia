{
 "cells": [
  {
   "attachments": {},
   "cell_type": "markdown",
   "metadata": {},
   "source": [
    "# Factorizations"
   ]
  },
  {
   "cell_type": "code",
   "execution_count": 1,
   "metadata": {},
   "outputs": [
    {
     "data": {
      "text/plain": [
       "3-element Vector{Float64}:\n",
       " 1.3075052585942264\n",
       " 0.8436337776003345\n",
       " 2.319256173482621"
      ]
     },
     "metadata": {},
     "output_type": "display_data"
    }
   ],
   "source": [
    "using LinearAlgebra\n",
    "A = rand(3,3)\n",
    "x = fill(1,(3,))\n",
    "b = A * x"
   ]
  },
  {
   "cell_type": "code",
   "execution_count": 2,
   "metadata": {},
   "outputs": [
    {
     "data": {
      "text/plain": [
       "LU{Float64, Matrix{Float64}, Vector{Int64}}\n",
       "L factor:\n",
       "3×3 Matrix{Float64}:\n",
       " 1.0         0.0        0.0\n",
       " 0.86832     1.0        0.0\n",
       " 0.0166662  -0.0721716  1.0\n",
       "U factor:\n",
       "3×3 Matrix{Float64}:\n",
       " 0.894144   0.95693    0.468182\n",
       " 0.0       -0.595324  -0.111027\n",
       " 0.0        0.0        0.754002"
      ]
     },
     "metadata": {},
     "output_type": "display_data"
    }
   ],
   "source": [
    "Alu = lu(A)"
   ]
  },
  {
   "cell_type": "code",
   "execution_count": 3,
   "metadata": {},
   "outputs": [
    {
     "data": {
      "text/plain": [
       "LU{Float64, Matrix{Float64}, Vector{Int64}}"
      ]
     },
     "metadata": {},
     "output_type": "display_data"
    }
   ],
   "source": [
    "typeof(Alu)"
   ]
  },
  {
   "cell_type": "code",
   "execution_count": 4,
   "metadata": {},
   "outputs": [
    {
     "data": {
      "text/plain": [
       "3×3 Matrix{Float64}:\n",
       " 0.0  0.0  1.0\n",
       " 1.0  0.0  0.0\n",
       " 0.0  1.0  0.0"
      ]
     },
     "metadata": {},
     "output_type": "display_data"
    }
   ],
   "source": [
    "Alu.P"
   ]
  },
  {
   "cell_type": "code",
   "execution_count": 5,
   "metadata": {},
   "outputs": [
    {
     "data": {
      "text/plain": [
       "3×3 Matrix{Float64}:\n",
       " 1.0         0.0        0.0\n",
       " 0.86832     1.0        0.0\n",
       " 0.0166662  -0.0721716  1.0"
      ]
     },
     "metadata": {},
     "output_type": "display_data"
    }
   ],
   "source": [
    "Alu.L"
   ]
  },
  {
   "cell_type": "code",
   "execution_count": 6,
   "metadata": {},
   "outputs": [
    {
     "data": {
      "text/plain": [
       "3×3 Matrix{Float64}:\n",
       " 0.894144   0.95693    0.468182\n",
       " 0.0       -0.595324  -0.111027\n",
       " 0.0        0.0        0.754002"
      ]
     },
     "metadata": {},
     "output_type": "display_data"
    }
   ],
   "source": [
    "Alu.U"
   ]
  },
  {
   "cell_type": "code",
   "execution_count": 7,
   "metadata": {},
   "outputs": [
    {
     "data": {
      "text/plain": [
       "3-element Vector{Float64}:\n",
       " 1.0\n",
       " 1.0\n",
       " 1.0"
      ]
     },
     "metadata": {},
     "output_type": "display_data"
    }
   ],
   "source": [
    "A\\b"
   ]
  },
  {
   "cell_type": "code",
   "execution_count": 8,
   "metadata": {},
   "outputs": [
    {
     "data": {
      "text/plain": [
       "3-element Vector{Float64}:\n",
       " 1.0\n",
       " 1.0\n",
       " 1.0"
      ]
     },
     "metadata": {},
     "output_type": "display_data"
    }
   ],
   "source": [
    "Alu\\b"
   ]
  },
  {
   "attachments": {},
   "cell_type": "markdown",
   "metadata": {},
   "source": [
    "# QR Factorizations"
   ]
  },
  {
   "cell_type": "code",
   "execution_count": 9,
   "metadata": {},
   "outputs": [
    {
     "data": {
      "text/plain": [
       "LinearAlgebra.QRCompactWY{Float64, Matrix{Float64}, Matrix{Float64}}\n",
       "Q factor:\n",
       "3×3 LinearAlgebra.QRCompactWYQ{Float64, Matrix{Float64}, Matrix{Float64}}:\n",
       " -0.655591    0.751699  -0.0717601\n",
       " -0.0125832  -0.105894  -0.994298\n",
       " -0.755011   -0.65095    0.0788819\n",
       "R factor:\n",
       "3×3 Matrix{Float64}:\n",
       " -1.18428  -0.877689  -0.556901\n",
       "  0.0      -0.452054  -0.164151\n",
       "  0.0       0.0       -0.749703"
      ]
     },
     "metadata": {},
     "output_type": "display_data"
    }
   ],
   "source": [
    "Aqr = qr(A)"
   ]
  },
  {
   "cell_type": "code",
   "execution_count": 11,
   "metadata": {},
   "outputs": [
    {
     "data": {
      "text/plain": [
       "3×3 LinearAlgebra.QRCompactWYQ{Float64, Matrix{Float64}, Matrix{Float64}}:\n",
       " -0.655591    0.751699  -0.0717601\n",
       " -0.0125832  -0.105894  -0.994298\n",
       " -0.755011   -0.65095    0.0788819"
      ]
     },
     "metadata": {},
     "output_type": "display_data"
    }
   ],
   "source": [
    "Aqr.Q"
   ]
  },
  {
   "cell_type": "code",
   "execution_count": 13,
   "metadata": {},
   "outputs": [
    {
     "data": {
      "text/plain": [
       "3×3 Matrix{Float64}:\n",
       " -1.18428  -0.877689  -0.556901\n",
       "  0.0      -0.452054  -0.164151\n",
       "  0.0       0.0       -0.749703"
      ]
     },
     "metadata": {},
     "output_type": "display_data"
    }
   ],
   "source": [
    "Aqr.R"
   ]
  },
  {
   "attachments": {},
   "cell_type": "markdown",
   "metadata": {},
   "source": [
    "# Eigendecompositions"
   ]
  },
  {
   "cell_type": "code",
   "execution_count": 14,
   "metadata": {},
   "outputs": [
    {
     "data": {
      "text/plain": [
       "Eigen{Float64, Float64, Matrix{Float64}, Vector{Float64}}\n",
       "values:\n",
       "3-element Vector{Float64}:\n",
       " -1.360649538739867\n",
       "  0.8660740371707529\n",
       "  3.1015743314250184\n",
       "vectors:\n",
       "3×3 Matrix{Float64}:\n",
       " -0.204228   0.780738  -0.590541\n",
       " -0.728759  -0.524038  -0.440788\n",
       "  0.653606  -0.340341  -0.675993"
      ]
     },
     "metadata": {},
     "output_type": "display_data"
    }
   ],
   "source": [
    "Asym = A + A'\n",
    "AsymEig = eigen(Asym)"
   ]
  },
  {
   "cell_type": "code",
   "execution_count": 15,
   "metadata": {},
   "outputs": [
    {
     "data": {
      "text/plain": [
       "3-element Vector{Float64}:\n",
       " -1.360649538739867\n",
       "  0.8660740371707529\n",
       "  3.1015743314250184"
      ]
     },
     "metadata": {},
     "output_type": "display_data"
    }
   ],
   "source": [
    "AsymEig.values"
   ]
  },
  {
   "cell_type": "code",
   "execution_count": 16,
   "metadata": {},
   "outputs": [
    {
     "data": {
      "text/plain": [
       "3×3 Matrix{Float64}:\n",
       " -0.204228   0.780738  -0.590541\n",
       " -0.728759  -0.524038  -0.440788\n",
       "  0.653606  -0.340341  -0.675993"
      ]
     },
     "metadata": {},
     "output_type": "display_data"
    }
   ],
   "source": [
    "AsymEig.vectors"
   ]
  },
  {
   "cell_type": "code",
   "execution_count": 17,
   "metadata": {},
   "outputs": [
    {
     "data": {
      "text/plain": [
       "3×3 Matrix{Float64}:\n",
       "  1.0          -2.77556e-17   5.27356e-16\n",
       "  2.22045e-15   1.0          -3.33067e-15\n",
       " -9.99201e-16  -1.64452e-15   1.0"
      ]
     },
     "metadata": {},
     "output_type": "display_data"
    }
   ],
   "source": [
    "inv(AsymEig)*Asym"
   ]
  },
  {
   "attachments": {},
   "cell_type": "markdown",
   "metadata": {},
   "source": [
    "# Special Matrix Structures"
   ]
  },
  {
   "cell_type": "code",
   "execution_count": 18,
   "metadata": {},
   "outputs": [
    {
     "data": {
      "text/plain": [
       "100×100 Matrix{Float64}:\n",
       " -1.06646     1.53153     0.682603  …  -2.18145     0.325869    1.0066\n",
       "  0.553432   -1.57616     1.16561       0.501222    1.3464      1.28705\n",
       " -0.195727   -0.305507   -1.47721       0.437556   -0.0463411  -0.0637214\n",
       " -0.0390035   1.04571    -0.977938      0.450636    0.174599    0.880107\n",
       " -0.284683    2.03403    -0.467093     -0.0209953  -1.20715     1.04916\n",
       " -1.80614     0.888002   -0.164799  …  -1.24503     1.53026    -1.22326\n",
       "  1.0234     -1.1177      0.014109      1.59328     2.0565     -0.66196\n",
       "  0.993924   -0.79449    -0.303371     -0.427023   -1.87854     1.51248\n",
       " -0.0287167  -1.06482    -1.33002       0.556366    0.738294    0.0245038\n",
       "  0.229105    1.97245    -0.881591     -0.491077   -0.0131277   1.39089\n",
       "  ⋮                                 ⋱                          \n",
       "  0.011908    0.771259   -1.10317       0.740139    1.27234     0.868711\n",
       " -0.0249069   0.411744    0.583476     -0.311065    0.552011    0.135899\n",
       " -0.311141   -0.0391335   0.170439     -0.572416    0.0513876   0.418861\n",
       "  0.156635    0.601786    0.512513     -0.895477    1.17136    -1.30052\n",
       " -0.618032    0.152972    1.13797   …   0.212861   -0.0689298  -1.18146\n",
       " -0.448227    0.86617    -0.101494     -0.0434428   0.86508    -0.926287\n",
       " -0.348079    0.147129    1.44454       0.893646    1.88616    -1.47716\n",
       "  0.462866    0.175575   -0.236735     -0.430103   -0.198898    1.35447\n",
       "  1.3124      0.720738    0.925674      0.346584   -0.324763   -1.23817"
      ]
     },
     "metadata": {},
     "output_type": "display_data"
    }
   ],
   "source": [
    "n = 100\n",
    "A = randn(n,n)"
   ]
  },
  {
   "cell_type": "code",
   "execution_count": 19,
   "metadata": {},
   "outputs": [
    {
     "data": {
      "text/plain": [
       "true"
      ]
     },
     "metadata": {},
     "output_type": "display_data"
    }
   ],
   "source": [
    "Asym = A + A'\n",
    "issymmetric(Asym)"
   ]
  },
  {
   "cell_type": "code",
   "execution_count": 20,
   "metadata": {},
   "outputs": [
    {
     "data": {
      "text/plain": [
       "2.0849600690516032"
      ]
     },
     "metadata": {},
     "output_type": "display_data"
    }
   ],
   "source": [
    "Asym_noisy = copy(Asym)\n",
    "Asym_noisy[1,2] += 5eps()"
   ]
  },
  {
   "cell_type": "code",
   "execution_count": 21,
   "metadata": {},
   "outputs": [
    {
     "data": {
      "text/plain": [
       "false"
      ]
     },
     "metadata": {},
     "output_type": "display_data"
    }
   ],
   "source": [
    "issymmetric(Asym_noisy)"
   ]
  },
  {
   "cell_type": "code",
   "execution_count": 22,
   "metadata": {},
   "outputs": [
    {
     "data": {
      "text/plain": [
       "100×100 Symmetric{Float64, Matrix{Float64}}:\n",
       " -2.13292    2.08496     0.486876   …  -2.52953     0.788736    2.31899\n",
       "  2.08496   -3.15231     0.860106       0.648351    1.52197     2.00779\n",
       "  0.486876   0.860106   -2.95443        1.88209    -0.283076    0.861953\n",
       "  0.342009   2.19686    -0.362197       0.143365    0.407103    1.73283\n",
       "  0.336053   3.20591     0.0693576     -0.559187   -0.732435    2.05927\n",
       " -1.83422    0.835034   -1.58414    …  -1.69718     1.45152     0.0990319\n",
       "  0.697613  -0.502654    1.42027        4.01274     2.79982    -1.36037\n",
       "  1.65908   -0.516696   -1.1857        -0.0615582  -1.97568    -0.966758\n",
       "  0.231436  -0.47941    -0.930354       1.19081     0.544353    0.276613\n",
       "  0.689973  -0.43117    -0.407248       0.0137725  -1.594       2.50936\n",
       "  ⋮                                 ⋱                          \n",
       "  1.57213    0.631174   -0.950883       1.51903     2.90102     0.623583\n",
       " -0.550292  -0.338823   -0.175149      -0.959836    0.259283    0.0225313\n",
       " -0.890639  -1.04485     0.353376       0.381764   -0.386311   -1.65726\n",
       " -0.974588   1.87577     0.21521       -1.58539     0.0545534  -0.669021\n",
       " -1.18304   -0.0536613   0.223263   …   0.37121    -0.1037     -1.08351\n",
       " -3.61639    1.64656    -1.75259       -0.352946    0.24111    -2.46662\n",
       " -2.52953    0.648351    1.88209        1.78729     1.45606    -1.13057\n",
       "  0.788736   1.52197    -0.283076       1.45606    -0.397797    1.02971\n",
       "  2.31899    2.00779     0.861953      -1.13057     1.02971    -2.47633"
      ]
     },
     "metadata": {},
     "output_type": "display_data"
    }
   ],
   "source": [
    "Asym_explicit = Symmetric(Asym_noisy)"
   ]
  },
  {
   "cell_type": "code",
   "execution_count": 23,
   "metadata": {},
   "outputs": [
    {
     "name": "stdout",
     "output_type": "stream",
     "text": [
      "  0.200525 seconds (152.15 k allocations: 7.389 MiB, 97.89% compilation time)\n"
     ]
    },
    {
     "data": {
      "text/plain": [
       "100-element Vector{Float64}:\n",
       " -27.5758733696915\n",
       " -25.85520431935001\n",
       " -25.54053608351676\n",
       " -24.523321709285316\n",
       " -23.493071506908557\n",
       " -22.627663614701774\n",
       " -22.148287308623694\n",
       " -21.395489544274326\n",
       " -20.74097585785278\n",
       " -20.265397035200476\n",
       "   ⋮\n",
       "  20.82257410121392\n",
       "  20.900801450072233\n",
       "  22.557640973271766\n",
       "  23.234721719761083\n",
       "  23.631855307102015\n",
       "  24.957959059146695\n",
       "  25.88512459513209\n",
       "  26.86095735346955\n",
       "  27.343838712636973"
      ]
     },
     "metadata": {},
     "output_type": "display_data"
    }
   ],
   "source": [
    "@time eigvals(Asym)"
   ]
  },
  {
   "cell_type": "code",
   "execution_count": 24,
   "metadata": {},
   "outputs": [
    {
     "name": "stdout",
     "output_type": "stream",
     "text": [
      "  0.008571 seconds (13 allocations: 118.312 KiB)\n"
     ]
    },
    {
     "data": {
      "text/plain": [
       "100-element Vector{Float64}:\n",
       " -27.57587336969164\n",
       " -25.855204319350083\n",
       " -25.540536083516777\n",
       " -24.52332170928537\n",
       " -23.493071506908475\n",
       " -22.62766361470171\n",
       " -22.148287308623566\n",
       " -21.395489544274472\n",
       " -20.740975857852753\n",
       " -20.26539703520048\n",
       "   ⋮\n",
       "  20.822574101213984\n",
       "  20.900801450072322\n",
       "  22.55764097327179\n",
       "  23.23472171976099\n",
       "  23.631855307102008\n",
       "  24.957959059146603\n",
       "  25.88512459513209\n",
       "  26.860957353469505\n",
       "  27.343838712636952"
      ]
     },
     "metadata": {},
     "output_type": "display_data"
    }
   ],
   "source": [
    "@time eigvals(Asym_noisy)"
   ]
  },
  {
   "cell_type": "code",
   "execution_count": 25,
   "metadata": {},
   "outputs": [
    {
     "name": "stdout",
     "output_type": "stream",
     "text": [
      "  0.021856 seconds (12.79 k allocations: 795.003 KiB, 66.27% compilation time)\n"
     ]
    },
    {
     "data": {
      "text/plain": [
       "100-element Vector{Float64}:\n",
       " -27.57587336969162\n",
       " -25.85520431935001\n",
       " -25.540536083516667\n",
       " -24.52332170928525\n",
       " -23.493071506908468\n",
       " -22.627663614701746\n",
       " -22.14828730862371\n",
       " -21.395489544274348\n",
       " -20.74097585785278\n",
       " -20.265397035200458\n",
       "   ⋮\n",
       "  20.822574101213906\n",
       "  20.90080145007219\n",
       "  22.557640973271766\n",
       "  23.234721719761076\n",
       "  23.63185530710197\n",
       "  24.957959059146578\n",
       "  25.885124595132066\n",
       "  26.860957353469676\n",
       "  27.343838712636998"
      ]
     },
     "metadata": {},
     "output_type": "display_data"
    }
   ],
   "source": [
    "@time eigvals(Asym_explicit)"
   ]
  },
  {
   "attachments": {},
   "cell_type": "markdown",
   "metadata": {},
   "source": [
    "# A Big Problem"
   ]
  },
  {
   "cell_type": "code",
   "execution_count": 26,
   "metadata": {},
   "outputs": [
    {
     "name": "stdout",
     "output_type": "stream",
     "text": [
      "  1.048110 seconds (879.41 k allocations: 226.606 MiB, 27.41% gc time, 38.44% compilation time)\n"
     ]
    },
    {
     "data": {
      "text/plain": [
       "6.244046265045984"
      ]
     },
     "metadata": {},
     "output_type": "display_data"
    }
   ],
   "source": [
    "n = 1_000_000;\n",
    "A = SymTridiagonal(randn(n), randn(n-1));\n",
    "@time eigmax(A)"
   ]
  },
  {
   "attachments": {},
   "cell_type": "markdown",
   "metadata": {},
   "source": [
    "# Generic Linear Algebra"
   ]
  },
  {
   "attachments": {},
   "cell_type": "markdown",
   "metadata": {},
   "source": [
    "# Rational Numbers"
   ]
  },
  {
   "cell_type": "code",
   "execution_count": 27,
   "metadata": {},
   "outputs": [
    {
     "data": {
      "text/plain": [
       "1//2"
      ]
     },
     "metadata": {},
     "output_type": "display_data"
    }
   ],
   "source": [
    "1//2"
   ]
  },
  {
   "cell_type": "code",
   "execution_count": 29,
   "metadata": {},
   "outputs": [
    {
     "data": {
      "text/plain": [
       "3×3 Matrix{Rational{BigInt}}:\n",
       " 1//5   1//1   9//10\n",
       " 3//5   1//10  7//10\n",
       " 1//10  4//5   9//10"
      ]
     },
     "metadata": {},
     "output_type": "display_data"
    }
   ],
   "source": [
    "Arational = Matrix{Rational{BigInt}}(rand(1:10,3,3))/10"
   ]
  },
  {
   "cell_type": "code",
   "execution_count": 30,
   "metadata": {},
   "outputs": [
    {
     "data": {
      "text/plain": [
       "3-element Vector{Rational{BigInt}}:\n",
       " 21//10\n",
       "  7//5\n",
       "  9//5"
      ]
     },
     "metadata": {},
     "output_type": "display_data"
    }
   ],
   "source": [
    "x = fill(1,3)\n",
    "b = Arational*x"
   ]
  },
  {
   "cell_type": "code",
   "execution_count": 31,
   "metadata": {},
   "outputs": [
    {
     "data": {
      "text/plain": [
       "3-element Vector{Rational{BigInt}}:\n",
       " 1//1\n",
       " 1//1\n",
       " 1//1"
      ]
     },
     "metadata": {},
     "output_type": "display_data"
    }
   ],
   "source": [
    "Arational\\b"
   ]
  },
  {
   "cell_type": "code",
   "execution_count": 32,
   "metadata": {},
   "outputs": [
    {
     "data": {
      "text/plain": [
       "LU{Rational{BigInt}, Matrix{Rational{BigInt}}, Vector{Int64}}\n",
       "L factor:\n",
       "3×3 Matrix{Rational{BigInt}}:\n",
       " 1//1   0//1   0//1\n",
       " 1//3   1//1   0//1\n",
       " 1//6  47//58  1//1\n",
       "U factor:\n",
       "3×3 Matrix{Rational{BigInt}}:\n",
       " 3//5   1//10    7//10\n",
       " 0//1  29//30    2//3\n",
       " 0//1   0//1   141//580"
      ]
     },
     "metadata": {},
     "output_type": "display_data"
    }
   ],
   "source": [
    "lu(Arational)"
   ]
  }
 ],
 "metadata": {
  "kernelspec": {
   "display_name": "Julia 1.8.5",
   "language": "julia",
   "name": "julia-1.8"
  },
  "language_info": {
   "file_extension": ".jl",
   "mimetype": "application/julia",
   "name": "julia",
   "version": "1.8.5"
  },
  "orig_nbformat": 4
 },
 "nbformat": 4,
 "nbformat_minor": 2
}
